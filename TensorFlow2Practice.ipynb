{
  "nbformat": 4,
  "nbformat_minor": 0,
  "metadata": {
    "colab": {
      "provenance": [],
      "authorship_tag": "ABX9TyOtvu030Xw6qnIishP+4mTL",
      "include_colab_link": true
    },
    "kernelspec": {
      "name": "python3",
      "display_name": "Python 3"
    },
    "language_info": {
      "name": "python"
    }
  },
  "cells": [
    {
      "cell_type": "markdown",
      "metadata": {
        "id": "view-in-github",
        "colab_type": "text"
      },
      "source": [
        "<a href=\"https://colab.research.google.com/github/amartin6251/2023_Work/blob/main/TensorFlow2Practice.ipynb\" target=\"_parent\"><img src=\"https://colab.research.google.com/assets/colab-badge.svg\" alt=\"Open In Colab\"/></a>"
      ]
    },
    {
      "cell_type": "code",
      "execution_count": 8,
      "metadata": {
        "colab": {
          "base_uri": "https://localhost:8080/"
        },
        "id": "5kpfVrAmuzCC",
        "outputId": "2782280f-dce1-45a9-9e60-337e515fed03"
      },
      "outputs": [
        {
          "output_type": "stream",
          "name": "stdout",
          "text": [
            "TensorFlow version: 2.9.2\n"
          ]
        }
      ],
      "source": [
        "#TensorFlow 2 practice\n",
        "import tensorflow as tf\n",
        "print(\"TensorFlow version:\", tf.__version__)"
      ]
    },
    {
      "cell_type": "code",
      "source": [
        "#Download and split MNIST training data\n",
        "mnist = tf.keras.datasets.mnist\n",
        "\n",
        "(x_train, y_train), (x_test, y_test) = mnist.load_data()\n",
        "x_train, x_test = x_train / 255.0, x_test / 255.0"
      ],
      "metadata": {
        "id": "HuLKCmCSvHet"
      },
      "execution_count": 9,
      "outputs": []
    },
    {
      "cell_type": "code",
      "source": [
        "#TF Sequential model creation\n",
        "\n",
        "model = tf.keras.models.Sequential([\n",
        "    tf.keras.layers.Flatten(input_shape=(28,28)),\n",
        "    tf.keras.layers.Dense(128, activation='relu'),\n",
        "    tf.keras.layers.Dropout(0.2),\n",
        "    tf.keras.layers.Dense(10)\n",
        "])"
      ],
      "metadata": {
        "id": "x1P24goe_V1U"
      },
      "execution_count": 10,
      "outputs": []
    },
    {
      "cell_type": "code",
      "source": [
        "#Create and run a predictions variable\n",
        "#Output is a set of logits (non-normalized vectors)\n",
        "predictions = model(x_train[:1]).numpy()\n",
        "predictions"
      ],
      "metadata": {
        "colab": {
          "base_uri": "https://localhost:8080/"
        },
        "id": "e3j439Ij_tBO",
        "outputId": "d0b17c52-3c5b-4a88-8e43-e6537d5c08dc"
      },
      "execution_count": 11,
      "outputs": [
        {
          "output_type": "execute_result",
          "data": {
            "text/plain": [
              "array([[ 0.5657599 ,  0.4972469 ,  0.27225724, -1.0136293 , -0.00890909,\n",
              "         0.13808653,  0.6293537 , -0.6217305 ,  0.26914382,  0.21192831]],\n",
              "      dtype=float32)"
            ]
          },
          "metadata": {},
          "execution_count": 11
        }
      ]
    },
    {
      "cell_type": "code",
      "source": [
        "#Softmax to convert logits to probabilities (normalized) for multiclass classification\n",
        "tf.nn.softmax(predictions).numpy()"
      ],
      "metadata": {
        "colab": {
          "base_uri": "https://localhost:8080/"
        },
        "id": "7N2E9oHHAGqQ",
        "outputId": "35adf790-778b-428b-fdd7-6cb4671aa85d"
      },
      "execution_count": 12,
      "outputs": [
        {
          "output_type": "execute_result",
          "data": {
            "text/plain": [
              "array([[0.14458361, 0.13500947, 0.10780837, 0.02979882, 0.08138483,\n",
              "        0.09427203, 0.15407689, 0.04409593, 0.10747324, 0.10149671]],\n",
              "      dtype=float32)"
            ]
          },
          "metadata": {},
          "execution_count": 12
        }
      ]
    },
    {
      "cell_type": "code",
      "source": [
        "#Establish a loss function for model evaluation\n",
        "loss_fn = tf.keras.losses.SparseCategoricalCrossentropy(from_logits=True)"
      ],
      "metadata": {
        "id": "ouEMyLVNRFT6"
      },
      "execution_count": 14,
      "outputs": []
    },
    {
      "cell_type": "code",
      "source": [
        "#Untrained model initial loss, probability close to random 1/10 for each class (-tf.math.log(1/10))\n",
        "loss_fn(y_train[:1], predictions).numpy()"
      ],
      "metadata": {
        "colab": {
          "base_uri": "https://localhost:8080/"
        },
        "id": "D-jFbTr-RX9l",
        "outputId": "9383dd80-9a4d-4232-ae89-1a5a4ae9fb0c"
      },
      "execution_count": 15,
      "outputs": [
        {
          "output_type": "execute_result",
          "data": {
            "text/plain": [
              "2.3615706"
            ]
          },
          "metadata": {},
          "execution_count": 15
        }
      ]
    },
    {
      "cell_type": "code",
      "source": [
        "#model configuration and compiling, using adam optimiser, and accuracy metric\n",
        "model.compile(optimizer='adam',\n",
        "              loss=loss_fn,\n",
        "              metrics=['accuracy'])"
      ],
      "metadata": {
        "id": "G475VOfNR2Lp"
      },
      "execution_count": 16,
      "outputs": []
    },
    {
      "cell_type": "code",
      "source": [
        "#Train the model\n",
        "model.fit(x_train,y_train,epochs=5)"
      ],
      "metadata": {
        "colab": {
          "base_uri": "https://localhost:8080/"
        },
        "id": "hBmyCLWuWYlE",
        "outputId": "86760192-16d6-4304-beb7-0bf9c9755542"
      },
      "execution_count": 17,
      "outputs": [
        {
          "output_type": "stream",
          "name": "stdout",
          "text": [
            "Epoch 1/5\n",
            "1875/1875 [==============================] - 6s 3ms/step - loss: 0.2965 - accuracy: 0.9143\n",
            "Epoch 2/5\n",
            "1875/1875 [==============================] - 7s 4ms/step - loss: 0.1429 - accuracy: 0.9568\n",
            "Epoch 3/5\n",
            "1875/1875 [==============================] - 6s 3ms/step - loss: 0.1073 - accuracy: 0.9674\n",
            "Epoch 4/5\n",
            "1875/1875 [==============================] - 8s 4ms/step - loss: 0.0887 - accuracy: 0.9726\n",
            "Epoch 5/5\n",
            "1875/1875 [==============================] - 6s 3ms/step - loss: 0.0768 - accuracy: 0.9763\n"
          ]
        },
        {
          "output_type": "execute_result",
          "data": {
            "text/plain": [
              "<keras.callbacks.History at 0x7f7a8f5d1940>"
            ]
          },
          "metadata": {},
          "execution_count": 17
        }
      ]
    },
    {
      "cell_type": "code",
      "source": [
        "#Model evaluation based on test sets\n",
        "model.evaluate(x_test, y_test, verbose=2)"
      ],
      "metadata": {
        "colab": {
          "base_uri": "https://localhost:8080/"
        },
        "id": "mjTYBqIqWqMz",
        "outputId": "553a710e-b589-4dd2-9daa-d30625bc326a"
      },
      "execution_count": 18,
      "outputs": [
        {
          "output_type": "stream",
          "name": "stdout",
          "text": [
            "313/313 - 1s - loss: 0.0717 - accuracy: 0.9754 - 664ms/epoch - 2ms/step\n"
          ]
        },
        {
          "output_type": "execute_result",
          "data": {
            "text/plain": [
              "[0.07172948122024536, 0.9753999710083008]"
            ]
          },
          "metadata": {},
          "execution_count": 18
        }
      ]
    },
    {
      "cell_type": "code",
      "source": [
        "#Wrapping the trained model into a softmax top return probability\n",
        "probability_model = tf.keras.Sequential([\n",
        "    model,\n",
        "    tf.keras.layers.Softmax()\n",
        "])"
      ],
      "metadata": {
        "id": "o-gKk4TXW-_h"
      },
      "execution_count": 19,
      "outputs": []
    },
    {
      "cell_type": "code",
      "source": [
        "probability_model(x_test[:5])"
      ],
      "metadata": {
        "colab": {
          "base_uri": "https://localhost:8080/"
        },
        "id": "EWJ_m3_gYZ7A",
        "outputId": "890d5468-91c6-4ff9-9f53-8d15e70baf69"
      },
      "execution_count": 20,
      "outputs": [
        {
          "output_type": "execute_result",
          "data": {
            "text/plain": [
              "<tf.Tensor: shape=(5, 10), dtype=float32, numpy=\n",
              "array([[6.2623869e-08, 1.3561953e-07, 1.7529846e-05, 3.8205963e-04,\n",
              "        9.7363000e-11, 9.9393546e-06, 4.9960809e-14, 9.9957591e-01,\n",
              "        4.9299166e-07, 1.3818669e-05],\n",
              "       [7.0136387e-08, 2.8870133e-04, 9.9970055e-01, 1.0047140e-05,\n",
              "        2.0458368e-15, 3.2110086e-09, 4.4352211e-09, 2.8492337e-12,\n",
              "        6.1157800e-07, 6.2321562e-13],\n",
              "       [2.9040561e-07, 9.9928540e-01, 1.2390717e-04, 1.9793097e-06,\n",
              "        4.4996473e-06, 4.4947492e-06, 1.5270849e-05, 4.3686052e-04,\n",
              "        1.2687809e-04, 3.3553138e-07],\n",
              "       [9.9966633e-01, 1.3214854e-09, 1.2560406e-04, 2.9884319e-07,\n",
              "        4.7708352e-07, 9.2372356e-06, 2.4677054e-06, 9.8717770e-05,\n",
              "        4.7879066e-08, 9.6820033e-05],\n",
              "       [3.8545104e-06, 2.9969596e-09, 3.0027777e-06, 6.8928927e-07,\n",
              "        9.7860670e-01, 1.9276963e-07, 4.4920504e-05, 2.4814569e-04,\n",
              "        1.4266022e-05, 2.1078127e-02]], dtype=float32)>"
            ]
          },
          "metadata": {},
          "execution_count": 20
        }
      ]
    },
    {
      "cell_type": "code",
      "source": [],
      "metadata": {
        "id": "nVJuXM0-YgYl"
      },
      "execution_count": null,
      "outputs": []
    }
  ]
}